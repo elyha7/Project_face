{
 "cells": [
  {
   "cell_type": "code",
   "execution_count": 1,
   "metadata": {
    "collapsed": false
   },
   "outputs": [],
   "source": [
    "import sys\n",
    "import dlib\n",
    "from skimage import io\n",
    "import os\n",
    "import subprocess\n",
    "#from rude_carnie import guess"
   ]
  },
  {
   "cell_type": "code",
   "execution_count": 2,
   "metadata": {
    "collapsed": true
   },
   "outputs": [],
   "source": [
    "from matplotlib import pyplot as plt\n",
    "%matplotlib inline\n",
    "\n",
    "#sample image\n",
    "#img = plt.imread('sample_images/avatar.jpg')\n",
    "#img = preprocess(img)"
   ]
  },
  {
   "cell_type": "code",
   "execution_count": 3,
   "metadata": {
    "collapsed": false
   },
   "outputs": [],
   "source": [
    "import numpy as np\n",
    "import scipy.misc"
   ]
  },
  {
   "cell_type": "code",
   "execution_count": 4,
   "metadata": {
    "collapsed": false
   },
   "outputs": [],
   "source": [
    "def get_faces(filename,threshold):\n",
    "    face_detector = dlib.get_frontal_face_detector()\n",
    "    image = plt.imread(filename)\n",
    "    detected_faces,scores,idx = face_detector.run(image, 1,threshold)\n",
    "    faces=[]\n",
    "    for i,j in enumerate(detected_faces):\n",
    "        p_1=j.top()\n",
    "        p_2=j.bottom()\n",
    "        p_3=j.left()\n",
    "        p_4=j.right()\n",
    "        faces.append(image[p_1:p_2,p_3:p_4,:])\n",
    "    return faces"
   ]
  },
  {
   "cell_type": "code",
   "execution_count": 5,
   "metadata": {
    "collapsed": true
   },
   "outputs": [],
   "source": [
    "def save_pictures(filename,faces,dest='./'):\n",
    "    a,b=filename.split('.')\n",
    "    for k,i in enumerate(faces):\n",
    "        newname=dest+'/'+a+'_'+str(k)+'.jpg'\n",
    "        #print 'newname=',newname\n",
    "        scipy.misc.imsave(newname, i)"
   ]
  },
  {
   "cell_type": "code",
   "execution_count": 8,
   "metadata": {
    "collapsed": true
   },
   "outputs": [],
   "source": [
    "filename='../selfi1.jpg'"
   ]
  },
  {
   "cell_type": "code",
   "execution_count": 9,
   "metadata": {
    "collapsed": false
   },
   "outputs": [],
   "source": [
    "test_list=get_faces(filename,0)"
   ]
  },
  {
   "cell_type": "code",
   "execution_count": 55,
   "metadata": {
    "collapsed": false
   },
   "outputs": [],
   "source": [
    "save_pictures(filename,test_list,dest='./samples')"
   ]
  },
  {
   "cell_type": "code",
   "execution_count": null,
   "metadata": {
    "collapsed": false
   },
   "outputs": [],
   "source": [
    "for i in test_list:\n",
    "    plt.figure()\n",
    "    plt.imshow(i)"
   ]
  },
  {
   "cell_type": "code",
   "execution_count": 47,
   "metadata": {
    "collapsed": true
   },
   "outputs": [],
   "source": [
    "def make_gen_string(filename,img_dir,destination):\n",
    "    gender_string='python guess.py --class_type gender --model_type inception --model_dir /home/elyha7/programms/docker_work/checkpoint_gender'\n",
    "    gender_string+=' --filename '+img_dir+'/'+filename\n",
    "    gender_string+=' --target '+destination+'/'+'gender.csv'\n",
    "    return gender_string\n",
    "def make_age_string(filename,img_dir,destination):\n",
    "    age_string='python guess.py --class_type age --model_type inception --model_dir /home/elyha7/programms/docker_work/chekpoint_age'\n",
    "    age_string+=' --filename '+img_dir+'/'+filename\n",
    "    age_string+=' --target '+destination+'/'+'age.csv'\n",
    "    return age_string\n",
    "def write_result(ifile,ifile1,destination):\n",
    "    reader = csv.reader(ifile)\n",
    "    output=open(destination+'/result.csv','a')\n",
    "    writer = csv.writer(output)\n",
    "    k=0\n",
    "    for k,i in enumerate(reader):\n",
    "        if k==1:\n",
    "            save=i[1]\n",
    "            #writer.writerow((i[0],i[1],i[2]))\n",
    "        k+=1\n",
    "    reader = csv.reader(ifile1)\n",
    "    for k,i in enumerate(reader):\n",
    "        if k==1:\n",
    "            writer.writerow((i[0],i[1],save))\n",
    "    output.close()\n",
    "        "
   ]
  },
  {
   "cell_type": "code",
   "execution_count": 48,
   "metadata": {
    "collapsed": true
   },
   "outputs": [],
   "source": [
    "def run_classification(img_dir,destination):\n",
    "    for filename in sorted(os.listdir(img_dir)):\n",
    "        gender_string=make_gen_string(filename,img_dir,destination)\n",
    "        age_string=make_age_string(filename,img_dir,destination)\n",
    "        newfile=open('/home/elyha7/programms/docker_work/rude_carnie/start_age.sh','w')\n",
    "        newfile.write(age_string)\n",
    "        newfile.close()\n",
    "        newfile=open('/home/elyha7/programms/docker_work/rude_carnie/start_gender.sh','w')\n",
    "        newfile.write(gender_string)\n",
    "        newfile.close()\n",
    "        os.system('sh /home/elyha7/programms/docker_work/rude_carnie/start_age.sh')\n",
    "        ifile = open('/home/elyha7/programms/docker_work/age.csv','rb')\n",
    "        os.system('sh /home/elyha7/programms/docker_work/rude_carnie/start_gender.sh')\n",
    "        ifile1 = open('/home/elyha7/programms/docker_work/gender.csv','rb')\n",
    "        write_result(ifile,ifile1,destination)"
   ]
  },
  {
   "cell_type": "code",
   "execution_count": 49,
   "metadata": {
    "collapsed": false
   },
   "outputs": [
    {
     "name": "stdout",
     "output_type": "stream",
     "text": [
      "python guess.py --class_type gender --model_type inception --model_dir /home/elyha7/programms/docker_work/checkpoint_gender --filename /home/elyha7/programms/docker_work/samples/selfi1_6.jpg --target /home/elyha7/programms/docker_work/gender.csv \n",
      "python guess.py --class_type age --model_type inception --model_dir /home/elyha7/programms/docker_work/chekpoint_age --filename /home/elyha7/programms/docker_work/samples/selfi1_6.jpg --target /home/elyha7/programms/docker_work/age.csv\n"
     ]
    }
   ],
   "source": [
    "run_classification('/home/elyha7/programms/docker_work/samples','/home/elyha7/programms/docker_work')"
   ]
  },
  {
   "cell_type": "code",
   "execution_count": null,
   "metadata": {
    "collapsed": true
   },
   "outputs": [],
   "source": []
  }
 ],
 "metadata": {
  "anaconda-cloud": {},
  "kernelspec": {
   "display_name": "Python [conda root]",
   "language": "python",
   "name": "conda-root-py"
  },
  "language_info": {
   "codemirror_mode": {
    "name": "ipython",
    "version": 2
   },
   "file_extension": ".py",
   "mimetype": "text/x-python",
   "name": "python",
   "nbconvert_exporter": "python",
   "pygments_lexer": "ipython2",
   "version": "2.7.12"
  }
 },
 "nbformat": 4,
 "nbformat_minor": 1
}
